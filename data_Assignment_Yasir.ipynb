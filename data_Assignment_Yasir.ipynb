{
  "metadata": {
    "language_info": {
      "codemirror_mode": {
        "name": "python",
        "version": 3
      },
      "file_extension": ".py",
      "mimetype": "text/x-python",
      "name": "python",
      "nbconvert_exporter": "python",
      "pygments_lexer": "ipython3",
      "version": "3.8"
    },
    "kernelspec": {
      "name": "python",
      "display_name": "Python (Pyodide)",
      "language": "python"
    },
    "toc-showmarkdowntxt": false,
    "toc-showcode": true,
    "toc-autonumbering": false
  },
  "nbformat_minor": 4,
  "nbformat": 4,
  "cells": [
    {
      "cell_type": "markdown",
      "source": "# My Jupyter Notebook on IBM Watson Studio",
      "metadata": {
        "tags": []
      }
    },
    {
      "cell_type": "markdown",
      "source": "**Muhammad Yasir Khan** Data Scientist",
      "metadata": {}
    },
    {
      "cell_type": "markdown",
      "source": "_In today’s world, data analytics is crucial for measuring success. I hope It will be an amazing learning experience! moving from one concept to another while interconnecting the concepts and implementation of the concept in real-world scenarios._\n\n_I like to present the raw data as a information._",
      "metadata": {}
    },
    {
      "cell_type": "markdown",
      "source": "### following statement plus two variables",
      "metadata": {
        "tags": []
      }
    },
    {
      "cell_type": "code",
      "source": "a=200\nb=300\nprint(a+b)",
      "metadata": {
        "trusted": true
      },
      "execution_count": null,
      "outputs": []
    },
    {
      "cell_type": "markdown",
      "source": "~~**Display Strikethrough**~~\n\n<ol>\n  <li>Jupyter</li>\n  <li>Lab</li>\n  <li>Assignment\n    <ol>\n      <li>Assignment one</li>\n      <li>Assignment two</li>\n    </ol>\n      </li>\n  <li>Markdown</li>\n</ol>\n\n<ul>\n  <li>First Bullet</li>\n  <li>Second Bullet</li>\n  <li>Third Bullet</li>\n  <li>Fourth Bullet</li>\n</ul>\n\nClass1 | Class2 | count\n--- | --- | ---\n*Students* | *Students* | **Total**\n1 | 2 | 3\n\n\n---\n\nHyphens\n\n___\n\nAsterisks\n\n***\n\nUnderscores\n\n\n<img src=\"./Image.png\" alt=\"Alt text\" title=\"Title text\" />\n\n\n<a href=\"https://www.example.com/ great page\">Hyperlink</a>\n\n<html>\n  <head>\n      Jupyter Notebook\n  </head>\n    <Body>\n        <p>\n            This is Test HTML\n        </p>\n    </Body>\n</html>\n\n> 1- Enjoy to work on Jupyter Notebook\n\n<blockquote>2- Enjoy to work on Jupyter Notebook</blockquote>",
      "metadata": {}
    }
  ]
}